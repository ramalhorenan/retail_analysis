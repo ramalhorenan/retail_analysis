{
 "cells": [
  {
   "cell_type": "markdown",
   "id": "d77b161d-21ba-4e2b-ae0e-17c0dc5fae8c",
   "metadata": {},
   "source": [
    "# Description"
   ]
  },
  {
   "cell_type": "markdown",
   "id": "b20c051b-4c2b-4707-a812-c9655e44f8e8",
   "metadata": {},
   "source": [
    "<b>Stores\n",
    "\n",
    "Anonymized information about the 45 stores, indicating the type and size of store\n",
    "\n",
    "<b>Features\n",
    "\n",
    "Contains additional data related to the store, department, and regional activity for the given dates.\n",
    "\n",
    "Store - the store number\n",
    "\n",
    "Date - the week\n",
    "\n",
    "Temperature - average temperature in the region\n",
    "\n",
    "Fuel_Price - cost of fuel in the region\n",
    "\n",
    "MarkDown1-5 - anonymized data related to promotional markdowns. MarkDown data is only available after Nov 2011, and is not available for all stores all the time. Any missing value is marked with an NA\n",
    "\n",
    "CPI - the consumer price index\n",
    "\n",
    "Unemployment - the unemployment rate\n",
    "\n",
    "IsHoliday - whether the week is a special holiday week\n",
    "\n",
    "<b>Sales\n",
    "\n",
    "Historical sales data, which covers to 2010-02-05 to 2012-11-01. Within this tab you will find the following fields:\n",
    "\n",
    "\n",
    "Store - the store number\n",
    "\n",
    "Dept - the department number\n",
    "\n",
    "Date - the week\n",
    "\n",
    "Weekly_Sales -  sales for the given department in the given store\n",
    "\n",
    "IsHoliday - whether the week is a special holiday week"
   ]
  },
  {
   "cell_type": "code",
   "execution_count": null,
   "id": "1147540d-f908-4e8c-a48b-b081c5423698",
   "metadata": {},
   "outputs": [],
   "source": []
  },
  {
   "cell_type": "markdown",
   "id": "de222aba-3f47-428d-ae8e-e3b446cb546e",
   "metadata": {},
   "source": [
    "# Initializing"
   ]
  },
  {
   "cell_type": "code",
   "execution_count": 3,
   "id": "52d21d1b-b16c-4fb5-978d-9e5db81ea7ae",
   "metadata": {},
   "outputs": [
    {
     "name": "stdout",
     "output_type": "stream",
     "text": [
      "Defaulting to user installation because normal site-packages is not writeable\n",
      "Looking in links: /usr/share/pip-wheels\n",
      "Requirement already satisfied: pydantic in /home/c83ef07a-acae-4c5a-ac21-ed887f0956ba/.local/lib/python3.9/site-packages (2.6.1)\n",
      "Requirement already satisfied: pydantic-core==2.16.2 in /home/c83ef07a-acae-4c5a-ac21-ed887f0956ba/.local/lib/python3.9/site-packages (from pydantic) (2.16.2)\n",
      "Requirement already satisfied: typing-extensions>=4.6.1 in /home/c83ef07a-acae-4c5a-ac21-ed887f0956ba/.local/lib/python3.9/site-packages (from pydantic) (4.9.0)\n",
      "Requirement already satisfied: annotated-types>=0.4.0 in /home/c83ef07a-acae-4c5a-ac21-ed887f0956ba/.local/lib/python3.9/site-packages (from pydantic) (0.6.0)\n",
      "Note: you may need to restart the kernel to use updated packages.\n"
     ]
    }
   ],
   "source": [
    "pip install -U pydantic"
   ]
  },
  {
   "cell_type": "code",
   "execution_count": 5,
   "id": "e07b8ddd-857e-473f-aacb-446339975066",
   "metadata": {},
   "outputs": [
    {
     "ename": "PydanticImportError",
     "evalue": "`BaseSettings` has been moved to the `pydantic-settings` package. See https://docs.pydantic.dev/2.6/migration/#basesettings-has-moved-to-pydantic-settings for more details.\n\nFor further information visit https://errors.pydantic.dev/2.6/u/import-error",
     "output_type": "error",
     "traceback": [
      "\u001b[0;31m---------------------------------------------------------------------------\u001b[0m",
      "\u001b[0;31mPydanticImportError\u001b[0m                       Traceback (most recent call last)",
      "Input \u001b[0;32mIn [5]\u001b[0m, in \u001b[0;36m<cell line: 11>\u001b[0;34m()\u001b[0m\n\u001b[1;32m      9\u001b[0m \u001b[38;5;66;03m#sns.set_context('notebook',font_scale=1.5, rc={'lines.linewidth':2.5})\u001b[39;00m\n\u001b[1;32m     10\u001b[0m sns\u001b[38;5;241m.\u001b[39mset_context(\u001b[38;5;124m'\u001b[39m\u001b[38;5;124mtalk\u001b[39m\u001b[38;5;124m'\u001b[39m)\n\u001b[0;32m---> 11\u001b[0m \u001b[38;5;28;01mfrom\u001b[39;00m \u001b[38;5;21;01mpandas_profiling\u001b[39;00m \u001b[38;5;28;01mimport\u001b[39;00m ProfileReport\n",
      "File \u001b[0;32m~/.local/lib/python3.9/site-packages/pandas_profiling/__init__.py:6\u001b[0m, in \u001b[0;36m<module>\u001b[0;34m\u001b[0m\n\u001b[1;32m      1\u001b[0m \u001b[38;5;124;03m\"\"\"Main module of pandas-profiling.\u001b[39;00m\n\u001b[1;32m      2\u001b[0m \n\u001b[1;32m      3\u001b[0m \u001b[38;5;124;03m.. include:: ../../README.md\u001b[39;00m\n\u001b[1;32m      4\u001b[0m \u001b[38;5;124;03m\"\"\"\u001b[39;00m\n\u001b[0;32m----> 6\u001b[0m \u001b[38;5;28;01mfrom\u001b[39;00m \u001b[38;5;21;01mpandas_profiling\u001b[39;00m\u001b[38;5;21;01m.\u001b[39;00m\u001b[38;5;21;01mcontroller\u001b[39;00m \u001b[38;5;28;01mimport\u001b[39;00m pandas_decorator\n\u001b[1;32m      7\u001b[0m \u001b[38;5;28;01mfrom\u001b[39;00m \u001b[38;5;21;01mpandas_profiling\u001b[39;00m\u001b[38;5;21;01m.\u001b[39;00m\u001b[38;5;21;01mprofile_report\u001b[39;00m \u001b[38;5;28;01mimport\u001b[39;00m ProfileReport\n\u001b[1;32m      8\u001b[0m \u001b[38;5;28;01mfrom\u001b[39;00m \u001b[38;5;21;01mpandas_profiling\u001b[39;00m\u001b[38;5;21;01m.\u001b[39;00m\u001b[38;5;21;01mversion\u001b[39;00m \u001b[38;5;28;01mimport\u001b[39;00m __version__\n",
      "File \u001b[0;32m~/.local/lib/python3.9/site-packages/pandas_profiling/controller/pandas_decorator.py:4\u001b[0m, in \u001b[0;36m<module>\u001b[0;34m\u001b[0m\n\u001b[1;32m      1\u001b[0m \u001b[38;5;124;03m\"\"\"This file add the decorator on the DataFrame object.\"\"\"\u001b[39;00m\n\u001b[1;32m      2\u001b[0m \u001b[38;5;28;01mfrom\u001b[39;00m \u001b[38;5;21;01mpandas\u001b[39;00m \u001b[38;5;28;01mimport\u001b[39;00m DataFrame\n\u001b[0;32m----> 4\u001b[0m \u001b[38;5;28;01mfrom\u001b[39;00m \u001b[38;5;21;01mpandas_profiling\u001b[39;00m\u001b[38;5;21;01m.\u001b[39;00m\u001b[38;5;21;01mprofile_report\u001b[39;00m \u001b[38;5;28;01mimport\u001b[39;00m ProfileReport\n\u001b[1;32m      7\u001b[0m \u001b[38;5;28;01mdef\u001b[39;00m \u001b[38;5;21mprofile_report\u001b[39m(df: DataFrame, \u001b[38;5;241m*\u001b[39m\u001b[38;5;241m*\u001b[39mkwargs) \u001b[38;5;241m-\u001b[39m\u001b[38;5;241m>\u001b[39m ProfileReport:\n\u001b[1;32m      8\u001b[0m     \u001b[38;5;124;03m\"\"\"Profile a DataFrame.\u001b[39;00m\n\u001b[1;32m      9\u001b[0m \n\u001b[1;32m     10\u001b[0m \u001b[38;5;124;03m    Args:\u001b[39;00m\n\u001b[0;32m   (...)\u001b[0m\n\u001b[1;32m     15\u001b[0m \u001b[38;5;124;03m        A ProfileReport of the DataFrame.\u001b[39;00m\n\u001b[1;32m     16\u001b[0m \u001b[38;5;124;03m    \"\"\"\u001b[39;00m\n",
      "File \u001b[0;32m~/.local/lib/python3.9/site-packages/pandas_profiling/profile_report.py:13\u001b[0m, in \u001b[0;36m<module>\u001b[0;34m\u001b[0m\n\u001b[1;32m     10\u001b[0m \u001b[38;5;28;01mfrom\u001b[39;00m \u001b[38;5;21;01mtqdm\u001b[39;00m\u001b[38;5;21;01m.\u001b[39;00m\u001b[38;5;21;01mauto\u001b[39;00m \u001b[38;5;28;01mimport\u001b[39;00m tqdm\n\u001b[1;32m     11\u001b[0m \u001b[38;5;28;01mfrom\u001b[39;00m \u001b[38;5;21;01mvisions\u001b[39;00m \u001b[38;5;28;01mimport\u001b[39;00m VisionsTypeset\n\u001b[0;32m---> 13\u001b[0m \u001b[38;5;28;01mfrom\u001b[39;00m \u001b[38;5;21;01mpandas_profiling\u001b[39;00m\u001b[38;5;21;01m.\u001b[39;00m\u001b[38;5;21;01mconfig\u001b[39;00m \u001b[38;5;28;01mimport\u001b[39;00m Config, Settings\n\u001b[1;32m     14\u001b[0m \u001b[38;5;28;01mfrom\u001b[39;00m \u001b[38;5;21;01mpandas_profiling\u001b[39;00m\u001b[38;5;21;01m.\u001b[39;00m\u001b[38;5;21;01mexpectations_report\u001b[39;00m \u001b[38;5;28;01mimport\u001b[39;00m ExpectationsReport\n\u001b[1;32m     15\u001b[0m \u001b[38;5;28;01mfrom\u001b[39;00m \u001b[38;5;21;01mpandas_profiling\u001b[39;00m\u001b[38;5;21;01m.\u001b[39;00m\u001b[38;5;21;01mmodel\u001b[39;00m\u001b[38;5;21;01m.\u001b[39;00m\u001b[38;5;21;01malerts\u001b[39;00m \u001b[38;5;28;01mimport\u001b[39;00m AlertType\n",
      "File \u001b[0;32m~/.local/lib/python3.9/site-packages/pandas_profiling/config.py:6\u001b[0m, in \u001b[0;36m<module>\u001b[0;34m\u001b[0m\n\u001b[1;32m      3\u001b[0m \u001b[38;5;28;01mfrom\u001b[39;00m \u001b[38;5;21;01mtyping\u001b[39;00m \u001b[38;5;28;01mimport\u001b[39;00m Any, Dict, List, Optional\n\u001b[1;32m      5\u001b[0m \u001b[38;5;28;01mimport\u001b[39;00m \u001b[38;5;21;01mmatplotlib\u001b[39;00m\n\u001b[0;32m----> 6\u001b[0m \u001b[38;5;28;01mfrom\u001b[39;00m \u001b[38;5;21;01mpydantic\u001b[39;00m \u001b[38;5;28;01mimport\u001b[39;00m BaseModel, BaseSettings, Field\n\u001b[1;32m      8\u001b[0m matplotlib\u001b[38;5;241m.\u001b[39muse(\u001b[38;5;124m\"\u001b[39m\u001b[38;5;124mAgg\u001b[39m\u001b[38;5;124m\"\u001b[39m)\n\u001b[1;32m     11\u001b[0m \u001b[38;5;28;01mdef\u001b[39;00m \u001b[38;5;21m_merge_dictionaries\u001b[39m(dict1: \u001b[38;5;28mdict\u001b[39m, dict2: \u001b[38;5;28mdict\u001b[39m) \u001b[38;5;241m-\u001b[39m\u001b[38;5;241m>\u001b[39m \u001b[38;5;28mdict\u001b[39m:\n",
      "File \u001b[0;32m~/.local/lib/python3.9/site-packages/pydantic/__init__.py:374\u001b[0m, in \u001b[0;36m__getattr__\u001b[0;34m(attr_name)\u001b[0m\n\u001b[1;32m    372\u001b[0m dynamic_attr \u001b[38;5;241m=\u001b[39m _dynamic_imports\u001b[38;5;241m.\u001b[39mget(attr_name)\n\u001b[1;32m    373\u001b[0m \u001b[38;5;28;01mif\u001b[39;00m dynamic_attr \u001b[38;5;129;01mis\u001b[39;00m \u001b[38;5;28;01mNone\u001b[39;00m:\n\u001b[0;32m--> 374\u001b[0m     \u001b[38;5;28;01mreturn\u001b[39;00m \u001b[43m_getattr_migration\u001b[49m\u001b[43m(\u001b[49m\u001b[43mattr_name\u001b[49m\u001b[43m)\u001b[49m\n\u001b[1;32m    376\u001b[0m package, module_name \u001b[38;5;241m=\u001b[39m dynamic_attr\n\u001b[1;32m    378\u001b[0m \u001b[38;5;28;01mfrom\u001b[39;00m \u001b[38;5;21;01mimportlib\u001b[39;00m \u001b[38;5;28;01mimport\u001b[39;00m import_module\n",
      "File \u001b[0;32m~/.local/lib/python3.9/site-packages/pydantic/_migration.py:296\u001b[0m, in \u001b[0;36mgetattr_migration.<locals>.wrapper\u001b[0;34m(name)\u001b[0m\n\u001b[1;32m    294\u001b[0m     \u001b[38;5;28;01mreturn\u001b[39;00m import_string(REDIRECT_TO_V1[import_path])\n\u001b[1;32m    295\u001b[0m \u001b[38;5;28;01mif\u001b[39;00m import_path \u001b[38;5;241m==\u001b[39m \u001b[38;5;124m'\u001b[39m\u001b[38;5;124mpydantic:BaseSettings\u001b[39m\u001b[38;5;124m'\u001b[39m:\n\u001b[0;32m--> 296\u001b[0m     \u001b[38;5;28;01mraise\u001b[39;00m PydanticImportError(\n\u001b[1;32m    297\u001b[0m         \u001b[38;5;124m'\u001b[39m\u001b[38;5;124m`BaseSettings` has been moved to the `pydantic-settings` package. \u001b[39m\u001b[38;5;124m'\u001b[39m\n\u001b[1;32m    298\u001b[0m         \u001b[38;5;124mf\u001b[39m\u001b[38;5;124m'\u001b[39m\u001b[38;5;124mSee https://docs.pydantic.dev/\u001b[39m\u001b[38;5;132;01m{\u001b[39;00mversion_short()\u001b[38;5;132;01m}\u001b[39;00m\u001b[38;5;124m/migration/#basesettings-has-moved-to-pydantic-settings \u001b[39m\u001b[38;5;124m'\u001b[39m\n\u001b[1;32m    299\u001b[0m         \u001b[38;5;124m'\u001b[39m\u001b[38;5;124mfor more details.\u001b[39m\u001b[38;5;124m'\u001b[39m\n\u001b[1;32m    300\u001b[0m     )\n\u001b[1;32m    301\u001b[0m \u001b[38;5;28;01mif\u001b[39;00m import_path \u001b[38;5;129;01min\u001b[39;00m REMOVED_IN_V2:\n\u001b[1;32m    302\u001b[0m     \u001b[38;5;28;01mraise\u001b[39;00m PydanticImportError(\u001b[38;5;124mf\u001b[39m\u001b[38;5;124m'\u001b[39m\u001b[38;5;124m`\u001b[39m\u001b[38;5;132;01m{\u001b[39;00mimport_path\u001b[38;5;132;01m}\u001b[39;00m\u001b[38;5;124m` has been removed in V2.\u001b[39m\u001b[38;5;124m'\u001b[39m)\n",
      "\u001b[0;31mPydanticImportError\u001b[0m: `BaseSettings` has been moved to the `pydantic-settings` package. See https://docs.pydantic.dev/2.6/migration/#basesettings-has-moved-to-pydantic-settings for more details.\n\nFor further information visit https://errors.pydantic.dev/2.6/u/import-error"
     ]
    }
   ],
   "source": [
    "#importing libraries\n",
    "\n",
    "import pandas as pd\n",
    "import matplotlib.pyplot as plt\n",
    "import seaborn as sns\n",
    "sns.set_style('darkgrid')\n",
    "sns.set_palette('rainbow')\n",
    "sns.color_palette(\"Paired\")\n",
    "#sns.set_context('notebook',font_scale=1.5, rc={'lines.linewidth':2.5})\n",
    "sns.set_context('talk')\n",
    "from pandas_profiling import ProfileReport"
   ]
  },
  {
   "cell_type": "code",
   "execution_count": null,
   "id": "cd1c395e-fead-4de7-951b-4bc630321478",
   "metadata": {},
   "outputs": [],
   "source": [
    "#loading files\n",
    "try:\n",
    "    features = pd.read_csv(\"/datasets/features.csv\")\n",
    "\n",
    "except FileNotFoundError:\n",
    "    features = pd.read_csv(\"features.csv\")"
   ]
  },
  {
   "cell_type": "code",
   "execution_count": null,
   "id": "e69e6d79-0472-44b6-b488-7d58865a1556",
   "metadata": {},
   "outputs": [],
   "source": [
    "try:\n",
    "    sales = pd.read_csv(\"/datasets/sales.csv\")\n",
    "\n",
    "except FileNotFoundError:\n",
    "    sales = pd.read_csv(\"sales.csv\")"
   ]
  },
  {
   "cell_type": "code",
   "execution_count": null,
   "id": "12fd8575-65fa-410a-8ca7-683f597e4d9c",
   "metadata": {},
   "outputs": [],
   "source": [
    "try:\n",
    "    stores = pd.read_csv(\"/datasets/stores.csv\")\n",
    "\n",
    "except FileNotFoundError:\n",
    "    stores = pd.read_csv(\"stores.csv\")"
   ]
  },
  {
   "cell_type": "markdown",
   "id": "ba7e62a0-2f7c-4fac-a293-654621823d1e",
   "metadata": {},
   "source": [
    "# Modyfing Data"
   ]
  },
  {
   "cell_type": "markdown",
   "id": "8c86b935-4cb3-4e4f-b1ac-c0ac81d74bf7",
   "metadata": {},
   "source": [
    "## standaryzing data"
   ]
  },
  {
   "cell_type": "code",
   "execution_count": null,
   "id": "f88bea20-3a01-46cc-b484-05ee7e7ef832",
   "metadata": {},
   "outputs": [],
   "source": [
    "features.head()"
   ]
  },
  {
   "cell_type": "code",
   "execution_count": null,
   "id": "3ed0062b-c148-4905-a3a4-4521048cc819",
   "metadata": {},
   "outputs": [],
   "source": [
    "features.info()"
   ]
  },
  {
   "cell_type": "code",
   "execution_count": null,
   "id": "8164b162-2fa1-4844-800e-570d2370b7d0",
   "metadata": {},
   "outputs": [],
   "source": [
    "#lower casing columns \n",
    "features.columns = features.columns.str.lower()"
   ]
  },
  {
   "cell_type": "code",
   "execution_count": null,
   "id": "a0b11814-085d-4e07-bed4-1478c921ef3e",
   "metadata": {
    "scrolled": true
   },
   "outputs": [],
   "source": [
    "#changing data type to datetime\n",
    "features['date'] = pd.to_datetime(features['date'], format='%Y/%m/%d', infer_datetime_format=True)"
   ]
  },
  {
   "cell_type": "code",
   "execution_count": null,
   "id": "4c309b7a-34ec-4ad7-b4fd-d293f5370c38",
   "metadata": {},
   "outputs": [],
   "source": [
    "features.info()"
   ]
  },
  {
   "cell_type": "code",
   "execution_count": null,
   "id": "e1e4c9f3-a2b5-42ab-a553-3beb347c52af",
   "metadata": {},
   "outputs": [],
   "source": [
    "sales.head()"
   ]
  },
  {
   "cell_type": "code",
   "execution_count": null,
   "id": "dbe2e9c2-7a0c-4f23-a927-1208f0292e34",
   "metadata": {
    "scrolled": true
   },
   "outputs": [],
   "source": [
    "sales.info()"
   ]
  },
  {
   "cell_type": "code",
   "execution_count": null,
   "id": "e9b5302d-bc77-4944-905d-d84c8541ee4e",
   "metadata": {},
   "outputs": [],
   "source": [
    "#lower casing columns names\n",
    "sales.columns = sales.columns.str.lower()"
   ]
  },
  {
   "cell_type": "code",
   "execution_count": null,
   "id": "df0dd248-e32a-46fc-8663-b08181da674f",
   "metadata": {},
   "outputs": [],
   "source": [
    "#changing type of data to datetime\n",
    "sales['date'] = pd.to_datetime(sales['date'], format='%Y/%m/%d', infer_datetime_format=True)"
   ]
  },
  {
   "cell_type": "code",
   "execution_count": null,
   "id": "4dcda43c-fc07-4316-8fa3-8fbefafa3438",
   "metadata": {},
   "outputs": [],
   "source": [
    "stores.head()"
   ]
  },
  {
   "cell_type": "code",
   "execution_count": null,
   "id": "94a139b7-2fd4-424d-8598-7f96724978ea",
   "metadata": {},
   "outputs": [],
   "source": [
    "stores.info()"
   ]
  },
  {
   "cell_type": "code",
   "execution_count": null,
   "id": "49522b1c-d83e-4e29-bf55-4bd6eb803fca",
   "metadata": {},
   "outputs": [],
   "source": [
    "#lower casing columns names\n",
    "stores.columns = stores.columns.str.lower()"
   ]
  },
  {
   "cell_type": "markdown",
   "id": "c5ef899b-3157-42bc-941d-340564d3e44a",
   "metadata": {},
   "source": [
    "## cleaning data"
   ]
  },
  {
   "cell_type": "code",
   "execution_count": null,
   "id": "6ffdb038-9123-45a7-a7a8-94245e23c8c7",
   "metadata": {
    "scrolled": true
   },
   "outputs": [],
   "source": [
    "features.head()"
   ]
  },
  {
   "cell_type": "code",
   "execution_count": null,
   "id": "5c16a35f-a4f4-4c60-8c07-7315a954e3a1",
   "metadata": {},
   "outputs": [],
   "source": [
    "#markdowns columns name\n",
    "markdowns = ['markdown1','markdown2','markdown3','markdown4','markdown5']\n",
    "\n",
    "#filling missing values in markdown\n",
    "features[markdowns].fillna(0)"
   ]
  },
  {
   "cell_type": "code",
   "execution_count": null,
   "id": "a206e19f-9c71-47cb-909a-692d5f42b93d",
   "metadata": {},
   "outputs": [],
   "source": [
    "features.info()"
   ]
  },
  {
   "cell_type": "markdown",
   "id": "b5d3e1ff-57d7-4e1e-a044-afb46fb01d66",
   "metadata": {},
   "source": [
    "## enhancing data"
   ]
  },
  {
   "cell_type": "code",
   "execution_count": null,
   "id": "9ff2f1c3-f2ad-4be0-81b2-0972948f1c50",
   "metadata": {},
   "outputs": [],
   "source": [
    "sales.head()"
   ]
  },
  {
   "cell_type": "code",
   "execution_count": null,
   "id": "cb382691-5166-4626-b3c9-b3574214d2bd",
   "metadata": {},
   "outputs": [],
   "source": [
    "sales.info()"
   ]
  },
  {
   "cell_type": "code",
   "execution_count": null,
   "id": "9d0ecc4a-a4fa-449f-93bd-a00621eb80eb",
   "metadata": {},
   "outputs": [],
   "source": [
    "#adding month column\n",
    "sales['month'] = sales['date'].dt.month"
   ]
  },
  {
   "cell_type": "code",
   "execution_count": null,
   "id": "d6b056d5-1482-4023-acc6-fb6880abc140",
   "metadata": {},
   "outputs": [],
   "source": [
    "#adding year column\n",
    "sales['year'] = sales['date'].dt.year"
   ]
  },
  {
   "cell_type": "code",
   "execution_count": null,
   "id": "ac6acfcc-c9b7-4d7b-8c05-cb5cbd0a86a3",
   "metadata": {},
   "outputs": [],
   "source": [
    "features.sort_values(by='date',ascending=True).head()"
   ]
  },
  {
   "cell_type": "code",
   "execution_count": null,
   "id": "e3c77617-24a9-4832-8d84-876deb8689f2",
   "metadata": {},
   "outputs": [],
   "source": [
    "#add temperature and fuel price to table\n",
    "sales_temp_fuel = sales.merge(features[['date','store','temperature','fuel_price']], on=('date','store'), how='left')"
   ]
  },
  {
   "cell_type": "code",
   "execution_count": null,
   "id": "98bc2c67-d475-4804-aff0-f9b24b0bdbe6",
   "metadata": {},
   "outputs": [],
   "source": [
    "#merging sales and stores\n",
    "sales_stores  = stores.merge(sales_temp_fuel, on='store')\n",
    "sales_stores.head()"
   ]
  },
  {
   "cell_type": "code",
   "execution_count": null,
   "id": "b464dc56-93dc-4c0e-8a57-c0f12bc4bfb3",
   "metadata": {},
   "outputs": [],
   "source": []
  },
  {
   "cell_type": "code",
   "execution_count": null,
   "id": "dd628690-ef86-4de6-a69b-30609419d080",
   "metadata": {},
   "outputs": [],
   "source": []
  },
  {
   "cell_type": "code",
   "execution_count": null,
   "id": "eb2b4ec9-7070-4163-89ee-437d9a2b1f3d",
   "metadata": {},
   "outputs": [],
   "source": [
    "sales_stores.info()"
   ]
  },
  {
   "cell_type": "code",
   "execution_count": null,
   "id": "d76f416c-d49d-444a-b600-957656e577d3",
   "metadata": {},
   "outputs": [],
   "source": [
    "#creating temperature categories\n",
    "temp_category = pd.cut(sales_stores['temperature'], bins=5, labels=['very cold', 'cold', 'warm','hot','very hot'])\n",
    "temp_category"
   ]
  },
  {
   "cell_type": "code",
   "execution_count": null,
   "id": "72e34f4e-828b-4576-8f47-b11b74a78f16",
   "metadata": {},
   "outputs": [],
   "source": [
    "#adding temperature categories\n",
    "sales_stores['temp_category'] = temp_category"
   ]
  },
  {
   "cell_type": "code",
   "execution_count": null,
   "id": "0cf7a90c-c7c0-481e-9872-8fcf2890678c",
   "metadata": {},
   "outputs": [],
   "source": [
    "sales_stores.head()"
   ]
  },
  {
   "cell_type": "code",
   "execution_count": null,
   "id": "caee3afa-adf0-476a-96a9-e8f1dfb6c1c8",
   "metadata": {},
   "outputs": [],
   "source": []
  },
  {
   "cell_type": "code",
   "execution_count": null,
   "id": "adbf6de4-4b32-4e74-a456-ea32f866ed07",
   "metadata": {},
   "outputs": [],
   "source": []
  },
  {
   "cell_type": "code",
   "execution_count": null,
   "id": "81f1dd3f-d393-4495-89b1-88fbee58d9ab",
   "metadata": {},
   "outputs": [],
   "source": []
  },
  {
   "cell_type": "markdown",
   "id": "762739f8-0435-4da1-b1b5-dd4e8d4f8b96",
   "metadata": {},
   "source": [
    "# Analysis / Insights"
   ]
  },
  {
   "cell_type": "markdown",
   "id": "8843ded9-e95f-458c-b338-80a4eceaf6b1",
   "metadata": {},
   "source": [
    "### best and worst 10, sales 2011"
   ]
  },
  {
   "cell_type": "code",
   "execution_count": null,
   "id": "089c292f-9509-4617-ad4e-47c78966c7f5",
   "metadata": {},
   "outputs": [],
   "source": [
    "sales_stores.info()"
   ]
  },
  {
   "cell_type": "code",
   "execution_count": null,
   "id": "09078d02-88fc-4d87-a891-bc9cd6697f06",
   "metadata": {},
   "outputs": [],
   "source": [
    "sales_stores.head()"
   ]
  },
  {
   "cell_type": "code",
   "execution_count": null,
   "id": "ebeca08f-c4b0-4fe8-a905-bca598f872f0",
   "metadata": {},
   "outputs": [],
   "source": [
    "#filtering by 2011 year\n",
    "sales_stores_2011 = sales_stores.query('date > =\"2011-01-01\" and date <= \"2011-12-31\"')"
   ]
  },
  {
   "cell_type": "code",
   "execution_count": null,
   "id": "e0299ac0-d1f0-4bf4-a91b-8393e64e2ff0",
   "metadata": {},
   "outputs": [],
   "source": [
    "sales_stores_2011"
   ]
  },
  {
   "cell_type": "code",
   "execution_count": null,
   "id": "a76ede78-654a-4622-bf67-f04b51b460bf",
   "metadata": {},
   "outputs": [],
   "source": [
    "#grouping sales by stores\n",
    "total_sales_2011 = sales_stores_2011.groupby('store')['weekly_sales'].sum().reset_index(name='total')\n",
    "total_sales_2011.head()"
   ]
  },
  {
   "cell_type": "code",
   "execution_count": null,
   "id": "dc2ca5ee-bea0-4571-9906-d0e1ddcbc501",
   "metadata": {},
   "outputs": [],
   "source": [
    "#plotting total sales from 2011 by store\n",
    "plt.figure(figsize=(20,8))\n",
    "sns.barplot(data=total_sales_2011, x='store', y='total')\n",
    "\n",
    "plt.show()"
   ]
  },
  {
   "cell_type": "code",
   "execution_count": null,
   "id": "31e1dada-681b-4b04-a5c9-a865244b6953",
   "metadata": {},
   "outputs": [],
   "source": [
    "#top 10 store sales 2011\n",
    "top10_2011 = total_sales_2011.sort_values(by='total',ascending=False).head(10)\n",
    "top10_2011"
   ]
  },
  {
   "cell_type": "code",
   "execution_count": null,
   "id": "d7c66a06-5476-4a55-a2cf-306da020155f",
   "metadata": {},
   "outputs": [],
   "source": [
    "#top 10 stores in 2011\n",
    "plt.figure(figsize=(12,8))\n",
    "sns.barplot(data=top10_2011, x='store', y='total')\n",
    "plt.show()"
   ]
  },
  {
   "cell_type": "code",
   "execution_count": null,
   "id": "93928d99-53b1-4df8-a662-588397eb540a",
   "metadata": {},
   "outputs": [],
   "source": [
    "bottom10_2011 = total_sales_2011.sort_values(by='total',ascending=False).tail(10)\n",
    "bottom10_2011"
   ]
  },
  {
   "cell_type": "code",
   "execution_count": null,
   "id": "e4d6415e-0e70-4c34-b988-5aba9fc3b1af",
   "metadata": {},
   "outputs": [],
   "source": [
    "#bottom 10 stores in 2011\n",
    "plt.figure(figsize=(12,8))\n",
    "sns.barplot(data=bottom10_2011, x='store', y='total')\n",
    "plt.show()"
   ]
  },
  {
   "cell_type": "markdown",
   "id": "7c410aa3-62e3-493a-b3b6-2b83a34d7b6f",
   "metadata": {},
   "source": [
    "### year tracking"
   ]
  },
  {
   "cell_type": "code",
   "execution_count": null,
   "id": "a0f744a4-b3df-4344-b26e-786f835ad337",
   "metadata": {},
   "outputs": [],
   "source": [
    "sales_stores_2011.head()"
   ]
  },
  {
   "cell_type": "code",
   "execution_count": null,
   "id": "41251738-5579-416d-96a4-583212c17430",
   "metadata": {},
   "outputs": [],
   "source": [
    "sales_stores_2011['month'].unique()"
   ]
  },
  {
   "cell_type": "code",
   "execution_count": null,
   "id": "b1440181-19bb-44fd-98d9-dfa9f8970340",
   "metadata": {},
   "outputs": [],
   "source": [
    "#grouping by monthly store revenue in 2011\n",
    "monthly_sales_stores = sales_stores_2011.groupby(['store','month']).agg(total=('weekly_sales','sum')).reset_index()\n",
    "monthly_sales_stores.head()"
   ]
  },
  {
   "cell_type": "code",
   "execution_count": null,
   "id": "0df8e313-167f-452c-acf9-ff5f3d4bba57",
   "metadata": {},
   "outputs": [],
   "source": [
    "#plotting monthly sales of all stores\n",
    "plt.figure(figsize=(12,8))\n",
    "sns.lineplot(data=monthly_sales_stores, x='month', y='total',hue='store')\n",
    "plt.show()"
   ]
  },
  {
   "cell_type": "code",
   "execution_count": null,
   "id": "74189a8f-3e01-4933-b56c-b0268e025000",
   "metadata": {},
   "outputs": [],
   "source": [
    "top10 = top10_2011['store'].tolist()\n",
    "top10"
   ]
  },
  {
   "cell_type": "code",
   "execution_count": null,
   "id": "ddcdaf93-48d4-4f51-ad11-b0a4da84dba2",
   "metadata": {},
   "outputs": [],
   "source": [
    "#plotting monthly sales of top 10 stores\n",
    "plt.figure(figsize=(12,8))\n",
    "sns.lineplot(data=monthly_sales_stores.query('store == @top10'), x='month', y='total',hue='store')\n",
    "plt.show()"
   ]
  },
  {
   "cell_type": "code",
   "execution_count": null,
   "id": "297eb9c5-aa27-479d-b325-ba13c67d7f70",
   "metadata": {},
   "outputs": [],
   "source": [
    "month_sales = sales_stores_2011.groupby('month')['weekly_sales'].mean().reset_index(name='avg_sales').round(2)\n",
    "month_sales.head()"
   ]
  },
  {
   "cell_type": "code",
   "execution_count": null,
   "id": "4b3ab6f9-80bf-46e4-af88-597e08b15b4e",
   "metadata": {},
   "outputs": [],
   "source": [
    "#plot sales per month 2011 \n",
    "plt.figure(figsize=(12,8))\n",
    "sns.lineplot(data=month_sales, x='month', y='avg_sales')\n",
    "plt.show()"
   ]
  },
  {
   "cell_type": "code",
   "execution_count": null,
   "id": "bf977e08-ad3e-40ff-9622-64130c3007bd",
   "metadata": {},
   "outputs": [],
   "source": []
  },
  {
   "cell_type": "markdown",
   "id": "f0798b10-af9e-4b16-92e4-f3048790368a",
   "metadata": {},
   "source": [
    "## when is holidays"
   ]
  },
  {
   "cell_type": "code",
   "execution_count": null,
   "id": "64d6305d-29ae-47aa-adb0-0fafd34056f5",
   "metadata": {},
   "outputs": [],
   "source": [
    "sales_stores.head()"
   ]
  },
  {
   "cell_type": "code",
   "execution_count": null,
   "id": "f49fc291-8cf2-4370-8d07-1eef24f234ce",
   "metadata": {},
   "outputs": [],
   "source": [
    "holiday_week_sales = sales_stores.query('isholiday == True')\n",
    "holiday_week_sales"
   ]
  },
  {
   "cell_type": "code",
   "execution_count": null,
   "id": "011f9097-6941-4606-826c-73291a575efc",
   "metadata": {},
   "outputs": [],
   "source": [
    "non_holiday_week_sales = sales_stores.query('isholiday == False')\n",
    "non_holiday_week_sales"
   ]
  },
  {
   "cell_type": "code",
   "execution_count": null,
   "id": "3c24ec72-e848-4911-97be-43e4f1ba8844",
   "metadata": {},
   "outputs": [],
   "source": [
    "total_hols = holiday_week_sales.groupby('store')['weekly_sales'].sum().reset_index(name='total').sort_values(by='total',ascending=False)\n",
    "total_hols.head()"
   ]
  },
  {
   "cell_type": "code",
   "execution_count": null,
   "id": "c3bc3884-56df-4e16-80a4-8fa743ec785d",
   "metadata": {},
   "outputs": [],
   "source": [
    "top10_hols = total_hols['store'].head(10).tolist()\n",
    "top10_hols"
   ]
  },
  {
   "cell_type": "code",
   "execution_count": null,
   "id": "9768b2e5-25ab-42a0-b724-6e7f39f7e69a",
   "metadata": {},
   "outputs": [],
   "source": [
    "#plot top 10 stores performance on holidays week\n",
    "plt.figure(figsize=(12,8))\n",
    "sns.barplot(data=total_hols.query('store == @top10_hols'), x='store', y='total')\n",
    "plt.show()"
   ]
  },
  {
   "cell_type": "code",
   "execution_count": null,
   "id": "17d4230c-d02e-40a3-a3fd-924e1de0bc44",
   "metadata": {},
   "outputs": [],
   "source": [
    "bottom10_hols = total_hols['store'].tail(10).tolist()\n",
    "bottom10_hols"
   ]
  },
  {
   "cell_type": "code",
   "execution_count": null,
   "id": "f689e5fa-c8d4-44f3-8ed5-fcd17dc89b33",
   "metadata": {},
   "outputs": [],
   "source": [
    "#plot worst 10 performance stores on holidays\n",
    "plt.figure(figsize=(12,8))\n",
    "sns.barplot(data=total_hols.query('store == @bottom10_hols'), x='store', y='total')\n",
    "plt.show()"
   ]
  },
  {
   "cell_type": "code",
   "execution_count": null,
   "id": "7b623849-2113-4df0-a31e-551e9acc8931",
   "metadata": {},
   "outputs": [],
   "source": [
    "total_non_hols = non_holiday_week_sales.groupby('store')['weekly_sales'].sum().reset_index(name='total').sort_values(by='total',ascending=False)\n",
    "total_non_hols.head()"
   ]
  },
  {
   "cell_type": "code",
   "execution_count": null,
   "id": "b7fcab9a-bf89-495c-ae4c-7460c5710c64",
   "metadata": {},
   "outputs": [],
   "source": [
    "top10_non_hols = total_non_hols['store'].head(10).tolist()\n",
    "top10_non_hols"
   ]
  },
  {
   "cell_type": "code",
   "execution_count": null,
   "id": "8e1f984d-5d34-43bb-9731-07fb51b8b005",
   "metadata": {},
   "outputs": [],
   "source": [
    "#plot top 10 best performance on non holidays \n",
    "plt.figure(figsize=(12,8))\n",
    "sns.barplot(data=total_non_hols.query('store == @top10_non_hols'), x='store', y='total')\n",
    "plt.show()"
   ]
  },
  {
   "cell_type": "code",
   "execution_count": null,
   "id": "1e8322b5-45c7-47c5-9179-45a6ba125f38",
   "metadata": {},
   "outputs": [],
   "source": [
    "bottom10_non_hols = total_non_hols['store'].tail(10).tolist()\n",
    "bottom10_non_hols"
   ]
  },
  {
   "cell_type": "code",
   "execution_count": null,
   "id": "6044b656-1fa2-4a00-b569-3334952fcac6",
   "metadata": {},
   "outputs": [],
   "source": [
    "#plot top 10 worst performance on non holidays\n",
    "plt.figure(figsize=(12,8))\n",
    "sns.barplot(data=total_non_hols.query('store == @bottom10_non_hols'), x='store', y='total')\n",
    "plt.show()"
   ]
  },
  {
   "cell_type": "code",
   "execution_count": null,
   "id": "de62319d-05da-4c85-9f25-75f7affa297f",
   "metadata": {},
   "outputs": [],
   "source": []
  },
  {
   "cell_type": "markdown",
   "id": "0e0c34e6-c932-4b6c-acba-febaa784b9ba",
   "metadata": {},
   "source": [
    "## sales on temperature"
   ]
  },
  {
   "cell_type": "code",
   "execution_count": null,
   "id": "97460787-ea40-4c72-86ce-0155e8379e9e",
   "metadata": {},
   "outputs": [],
   "source": [
    "sales_stores_2011.head()"
   ]
  },
  {
   "cell_type": "code",
   "execution_count": null,
   "id": "7148dfda-32c8-4e33-a74e-ccf6a346555b",
   "metadata": {},
   "outputs": [],
   "source": [
    "#grouping category by total sales\n",
    "temp_sales = sales_stores_2011.groupby('temp_category')['weekly_sales'].sum().reset_index(name='total_sales').sort_values(by='total_sales',ascending=False)\n",
    "temp_sales"
   ]
  },
  {
   "cell_type": "code",
   "execution_count": null,
   "id": "efd1d6cf-a137-4130-abaf-da3d27068ced",
   "metadata": {},
   "outputs": [],
   "source": [
    "#plot sales by temp category\n",
    "plt.figure(figsize=(12,8))\n",
    "sns.barplot(data=temp_sales, x='temp_category',y='total_sales')\n",
    "plt.show()"
   ]
  },
  {
   "cell_type": "code",
   "execution_count": null,
   "id": "facfaab9-671e-4cde-9a77-4007f360af0b",
   "metadata": {},
   "outputs": [],
   "source": [
    "#grouping month by temperature average\n",
    "month_temp = sales_stores_2011.groupby('month')['temperature'].mean().reset_index(name='avg_temp')\n",
    "month_temp.head()"
   ]
  },
  {
   "cell_type": "code",
   "execution_count": null,
   "id": "e7993cb0-d464-44d9-950e-09a0315d10e4",
   "metadata": {},
   "outputs": [],
   "source": []
  },
  {
   "cell_type": "code",
   "execution_count": null,
   "id": "f06a6759-5819-44be-b435-b5655dc6ac96",
   "metadata": {},
   "outputs": [],
   "source": []
  },
  {
   "cell_type": "code",
   "execution_count": null,
   "id": "7a6b1bb7-4c2a-4099-8aab-2066e6164720",
   "metadata": {},
   "outputs": [],
   "source": [
    "#plot month by temperature\n",
    "plt.figure(figsize=(12,8))\n",
    "sns.lineplot(data=month_temp, x='month', y='temperature')\n",
    "plt.show()"
   ]
  },
  {
   "cell_type": "code",
   "execution_count": null,
   "id": "d23164bc-7a98-44ae-95a4-6849a1355c52",
   "metadata": {},
   "outputs": [],
   "source": []
  }
 ],
 "metadata": {
  "kernelspec": {
   "display_name": "anaconda-2022.05-py39",
   "language": "python",
   "name": "conda-env-anaconda-2022.05-py39-py"
  },
  "language_info": {
   "codemirror_mode": {
    "name": "ipython",
    "version": 3
   },
   "file_extension": ".py",
   "mimetype": "text/x-python",
   "name": "python",
   "nbconvert_exporter": "python",
   "pygments_lexer": "ipython3",
   "version": "3.9.12"
  }
 },
 "nbformat": 4,
 "nbformat_minor": 5
}
